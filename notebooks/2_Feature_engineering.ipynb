{
 "cells": [
  {
   "cell_type": "code",
   "execution_count": 170,
   "id": "0eb8e121",
   "metadata": {},
   "outputs": [],
   "source": [
    "import numpy as np\n",
    "import pandas as pd"
   ]
  },
  {
   "cell_type": "code",
   "execution_count": 171,
   "id": "ae0579cd",
   "metadata": {},
   "outputs": [],
   "source": [
    "df = pd.read_csv('C:/Users/Lenovo/Desktop/refined_projects/House-Price-Predictor/data/train.csv')\n",
    "df_v = pd.read_csv('C:/Users/Lenovo/Desktop/refined_projects/House-Price-Predictor/data/validation.csv')\n",
    "df_t = pd.read_csv('C:/Users/Lenovo/Desktop/refined_projects/House-Price-Predictor/data/test.csv')\n"
   ]
  },
  {
   "cell_type": "markdown",
   "id": "9d4a5808",
   "metadata": {},
   "source": [
    "Categorical value handling"
   ]
  },
  {
   "cell_type": "code",
   "execution_count": 173,
   "id": "77ccac32",
   "metadata": {},
   "outputs": [
    {
     "name": "stdout",
     "output_type": "stream",
     "text": [
      "['mainroad', 'guestroom', 'basement', 'hotwaterheating', 'airconditioning', 'prefarea']\n"
     ]
    }
   ],
   "source": [
    "categorical_features = [ feature for feature in df.columns if df[feature].dtype == 'object']\n",
    "categorical_features = [feature for feature in categorical_features if feature != 'furnishingstatus']\n",
    "print(categorical_features)"
   ]
  },
  {
   "cell_type": "code",
   "execution_count": 174,
   "id": "274fadd7",
   "metadata": {},
   "outputs": [],
   "source": [
    "binary_mapping = {'yes':1, 'no':0}\n",
    "df_names = [df, df_v, df_t]\n",
    "\n",
    "for df_name in df_names:\n",
    "    for feature in categorical_features:\n",
    "        df_name[feature] = df_name[feature].map(binary_mapping)"
   ]
  },
  {
   "cell_type": "code",
   "execution_count": 179,
   "id": "d796932d",
   "metadata": {},
   "outputs": [],
   "source": [
    "#ordinal encoding for furnishingstatus\n",
    "furnishing_mapping = {\"unfurnished\": 0, \"semi-furnished\": 1, \"furnished\": 2}\n",
    "for df_name in df_names:\n",
    "    df_name[\"furnishingstatus\"] = df_name[\"furnishingstatus\"].map(furnishing_mapping)"
   ]
  },
  {
   "cell_type": "code",
   "execution_count": 184,
   "id": "48e20095",
   "metadata": {},
   "outputs": [],
   "source": [
    "df.to_csv('C:/Users/Lenovo/Desktop/refined_projects/House-Price-Predictor/data/cleaned_train.csv', index=False)\n",
    "df_v.to_csv('C:/Users/Lenovo/Desktop/refined_projects/House-Price-Predictor/data/cleaned_validation.csv', index=False)\n",
    "df_t.to_csv('C:/Users/Lenovo/Desktop/refined_projects/House-Price-Predictor/data/cleaned_test.csv', index=False)\n"
   ]
  },
  {
   "cell_type": "code",
   "execution_count": null,
   "id": "e06a247d",
   "metadata": {},
   "outputs": [],
   "source": []
  },
  {
   "cell_type": "code",
   "execution_count": null,
   "id": "87ae7c89",
   "metadata": {},
   "outputs": [],
   "source": []
  }
 ],
 "metadata": {
  "kernelspec": {
   "display_name": ".venv",
   "language": "python",
   "name": "python3"
  },
  "language_info": {
   "codemirror_mode": {
    "name": "ipython",
    "version": 3
   },
   "file_extension": ".py",
   "mimetype": "text/x-python",
   "name": "python",
   "nbconvert_exporter": "python",
   "pygments_lexer": "ipython3",
   "version": "3.13.1"
  }
 },
 "nbformat": 4,
 "nbformat_minor": 5
}

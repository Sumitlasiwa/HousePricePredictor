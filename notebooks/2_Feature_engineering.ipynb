{
 "cells": [
  {
   "cell_type": "code",
   "execution_count": 2,
   "id": "0eb8e121",
   "metadata": {},
   "outputs": [],
   "source": [
    "import numpy as np\n",
    "import pandas as pd"
   ]
  },
  {
   "cell_type": "code",
   "execution_count": 3,
   "id": "ae0579cd",
   "metadata": {},
   "outputs": [],
   "source": [
    "df = pd.read_csv('C:/Users/Lenovo/Desktop/refined_projects/House-Price-Predictor/data/train.csv')\n",
    "df_v = pd.read_csv('C:/Users/Lenovo/Desktop/refined_projects/House-Price-Predictor/data/validation.csv')\n",
    "df_t = pd.read_csv('C:/Users/Lenovo/Desktop/refined_projects/House-Price-Predictor/data/test.csv')\n"
   ]
  },
  {
   "cell_type": "markdown",
   "id": "9d4a5808",
   "metadata": {},
   "source": [
    "Categorical value handling"
   ]
  },
  {
   "cell_type": "code",
   "execution_count": 4,
   "id": "77ccac32",
   "metadata": {},
   "outputs": [
    {
     "name": "stdout",
     "output_type": "stream",
     "text": [
      "['mainroad', 'guestroom', 'basement', 'hotwaterheating', 'airconditioning', 'prefarea']\n"
     ]
    }
   ],
   "source": [
    "categorical_features = [ feature for feature in df.columns if df[feature].dtype == 'object']\n",
    "categorical_features = [feature for feature in categorical_features if feature != 'furnishingstatus']\n",
    "print(categorical_features)"
   ]
  },
  {
   "cell_type": "code",
   "execution_count": 5,
   "id": "274fadd7",
   "metadata": {},
   "outputs": [],
   "source": [
    "binary_mapping = {'yes':1, 'no':0}\n",
    "df_names = [df, df_v, df_t]\n",
    "\n",
    "for df_name in df_names:\n",
    "    for feature in categorical_features:\n",
    "        df_name[feature] = df_name[feature].map(binary_mapping)"
   ]
  },
  {
   "cell_type": "code",
   "execution_count": 6,
   "id": "d796932d",
   "metadata": {},
   "outputs": [],
   "source": [
    "#ordinal encoding for furnishingstatus\n",
    "furnishing_mapping = {\"unfurnished\": 0, \"semi-furnished\": 1, \"furnished\": 2}\n",
    "for df_name in df_names:\n",
    "    df_name[\"furnishingstatus\"] = df_name[\"furnishingstatus\"].map(furnishing_mapping)"
   ]
  },
  {
   "cell_type": "code",
   "execution_count": 7,
   "id": "4bede134",
   "metadata": {},
   "outputs": [
    {
     "data": {
      "text/html": [
       "<div>\n",
       "<style scoped>\n",
       "    .dataframe tbody tr th:only-of-type {\n",
       "        vertical-align: middle;\n",
       "    }\n",
       "\n",
       "    .dataframe tbody tr th {\n",
       "        vertical-align: top;\n",
       "    }\n",
       "\n",
       "    .dataframe thead th {\n",
       "        text-align: right;\n",
       "    }\n",
       "</style>\n",
       "<table border=\"1\" class=\"dataframe\">\n",
       "  <thead>\n",
       "    <tr style=\"text-align: right;\">\n",
       "      <th></th>\n",
       "      <th>area</th>\n",
       "      <th>bedrooms</th>\n",
       "      <th>bathrooms</th>\n",
       "      <th>stories</th>\n",
       "      <th>mainroad</th>\n",
       "      <th>guestroom</th>\n",
       "      <th>basement</th>\n",
       "      <th>hotwaterheating</th>\n",
       "      <th>airconditioning</th>\n",
       "      <th>parking</th>\n",
       "      <th>prefarea</th>\n",
       "      <th>furnishingstatus</th>\n",
       "      <th>price</th>\n",
       "    </tr>\n",
       "  </thead>\n",
       "  <tbody>\n",
       "    <tr>\n",
       "      <th>0</th>\n",
       "      <td>9800</td>\n",
       "      <td>4</td>\n",
       "      <td>2</td>\n",
       "      <td>2</td>\n",
       "      <td>1</td>\n",
       "      <td>1</td>\n",
       "      <td>0</td>\n",
       "      <td>0</td>\n",
       "      <td>0</td>\n",
       "      <td>2</td>\n",
       "      <td>0</td>\n",
       "      <td>1</td>\n",
       "      <td>5250000</td>\n",
       "    </tr>\n",
       "    <tr>\n",
       "      <th>1</th>\n",
       "      <td>6540</td>\n",
       "      <td>4</td>\n",
       "      <td>2</td>\n",
       "      <td>2</td>\n",
       "      <td>1</td>\n",
       "      <td>1</td>\n",
       "      <td>1</td>\n",
       "      <td>0</td>\n",
       "      <td>1</td>\n",
       "      <td>2</td>\n",
       "      <td>1</td>\n",
       "      <td>2</td>\n",
       "      <td>8540000</td>\n",
       "    </tr>\n",
       "    <tr>\n",
       "      <th>2</th>\n",
       "      <td>3520</td>\n",
       "      <td>2</td>\n",
       "      <td>1</td>\n",
       "      <td>2</td>\n",
       "      <td>1</td>\n",
       "      <td>0</td>\n",
       "      <td>0</td>\n",
       "      <td>0</td>\n",
       "      <td>0</td>\n",
       "      <td>0</td>\n",
       "      <td>1</td>\n",
       "      <td>2</td>\n",
       "      <td>4515000</td>\n",
       "    </tr>\n",
       "    <tr>\n",
       "      <th>3</th>\n",
       "      <td>8250</td>\n",
       "      <td>3</td>\n",
       "      <td>1</td>\n",
       "      <td>1</td>\n",
       "      <td>1</td>\n",
       "      <td>0</td>\n",
       "      <td>0</td>\n",
       "      <td>0</td>\n",
       "      <td>0</td>\n",
       "      <td>0</td>\n",
       "      <td>0</td>\n",
       "      <td>2</td>\n",
       "      <td>4480000</td>\n",
       "    </tr>\n",
       "    <tr>\n",
       "      <th>4</th>\n",
       "      <td>3180</td>\n",
       "      <td>4</td>\n",
       "      <td>1</td>\n",
       "      <td>2</td>\n",
       "      <td>1</td>\n",
       "      <td>0</td>\n",
       "      <td>1</td>\n",
       "      <td>0</td>\n",
       "      <td>1</td>\n",
       "      <td>0</td>\n",
       "      <td>0</td>\n",
       "      <td>0</td>\n",
       "      <td>3290000</td>\n",
       "    </tr>\n",
       "  </tbody>\n",
       "</table>\n",
       "</div>"
      ],
      "text/plain": [
       "   area  bedrooms  bathrooms  stories  mainroad  guestroom  basement  \\\n",
       "0  9800         4          2        2         1          1         0   \n",
       "1  6540         4          2        2         1          1         1   \n",
       "2  3520         2          1        2         1          0         0   \n",
       "3  8250         3          1        1         1          0         0   \n",
       "4  3180         4          1        2         1          0         1   \n",
       "\n",
       "   hotwaterheating  airconditioning  parking  prefarea  furnishingstatus  \\\n",
       "0                0                0        2         0                 1   \n",
       "1                0                1        2         1                 2   \n",
       "2                0                0        0         1                 2   \n",
       "3                0                0        0         0                 2   \n",
       "4                0                1        0         0                 0   \n",
       "\n",
       "     price  \n",
       "0  5250000  \n",
       "1  8540000  \n",
       "2  4515000  \n",
       "3  4480000  \n",
       "4  3290000  "
      ]
     },
     "execution_count": 7,
     "metadata": {},
     "output_type": "execute_result"
    }
   ],
   "source": [
    "df.head()"
   ]
  },
  {
   "cell_type": "code",
   "execution_count": 14,
   "id": "ebfc854d",
   "metadata": {},
   "outputs": [],
   "source": [
    "for df_name in df_names:\n",
    "    df_name['area'] = np.log1p(df_name['area'])\n",
    "    df_name['bedrooms'] = np.log1p(df_name['bedrooms'])\n",
    "    df_name['price'] = np.log1p(df_name['price'])"
   ]
  },
  {
   "cell_type": "code",
   "execution_count": 15,
   "id": "48e20095",
   "metadata": {},
   "outputs": [],
   "source": [
    "df.to_csv('C:/Users/Lenovo/Desktop/refined_projects/House-Price-Predictor/data/cleaned_train.csv', index=False)\n",
    "df_v.to_csv('C:/Users/Lenovo/Desktop/refined_projects/House-Price-Predictor/data/cleaned_validation.csv', index=False)\n",
    "df_t.to_csv('C:/Users/Lenovo/Desktop/refined_projects/House-Price-Predictor/data/cleaned_test.csv', index=False)\n"
   ]
  },
  {
   "cell_type": "code",
   "execution_count": null,
   "id": "e06a247d",
   "metadata": {},
   "outputs": [],
   "source": []
  },
  {
   "cell_type": "code",
   "execution_count": null,
   "id": "87ae7c89",
   "metadata": {},
   "outputs": [],
   "source": []
  }
 ],
 "metadata": {
  "kernelspec": {
   "display_name": ".venv",
   "language": "python",
   "name": "python3"
  },
  "language_info": {
   "codemirror_mode": {
    "name": "ipython",
    "version": 3
   },
   "file_extension": ".py",
   "mimetype": "text/x-python",
   "name": "python",
   "nbconvert_exporter": "python",
   "pygments_lexer": "ipython3",
   "version": "3.13.1"
  }
 },
 "nbformat": 4,
 "nbformat_minor": 5
}
